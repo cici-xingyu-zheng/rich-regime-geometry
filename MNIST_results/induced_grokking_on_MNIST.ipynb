{
 "cells": [
  {
   "cell_type": "markdown",
   "metadata": {},
   "source": [
    "We run the MNIST example from Liu et al; adapted for output scaling."
   ]
  },
  {
   "cell_type": "code",
   "execution_count": 1,
   "metadata": {},
   "outputs": [],
   "source": [
    "from collections import defaultdict\n",
    "from itertools import islice\n",
    "import random\n",
    "import time\n",
    "import os\n",
    "from pathlib import Path\n",
    "import math\n",
    "\n",
    "import numpy as np\n",
    "from tqdm.auto import tqdm\n",
    "\n",
    "import torch\n",
    "import torch.nn as nn\n",
    "import torchvision\n",
    "\n",
    "import matplotlib.pyplot as plt\n",
    "import seaborn as sns"
   ]
  },
  {
   "cell_type": "code",
   "execution_count": 23,
   "metadata": {},
   "outputs": [],
   "source": [
    "optimizer_dict = {\n",
    "    'AdamW': torch.optim.AdamW,\n",
    "    'Adam': torch.optim.Adam,\n",
    "    'SGD': torch.optim.SGD\n",
    "}\n",
    "\n",
    "activation_dict = {\n",
    "    'ReLU': nn.ReLU,\n",
    "    'Tanh': nn.Tanh,\n",
    "    'Sigmoid': nn.Sigmoid,\n",
    "    'GELU': nn.GELU\n",
    "}\n",
    "\n",
    "loss_function_dict = {\n",
    "    'MSE': nn.MSELoss,\n",
    "    'CrossEntropy': nn.CrossEntropyLoss\n",
    "}"
   ]
  },
  {
   "cell_type": "code",
   "execution_count": 24,
   "metadata": {},
   "outputs": [],
   "source": [
    "train_points = 1000\n",
    "optimization_steps = 100001\n",
    "batch_size = 200\n",
    "loss_function = 'MSE'   # 'MSE' or 'CrossEntropy'\n",
    "optimizer = 'AdamW'     # 'AdamW' or 'Adam' or 'SGD'\n",
    "lr = 1e-3\n",
    "initialization_scale = 8.0\n",
    "download_directory = \"../data\"\n",
    "weight_decay = 0\n",
    "depth = 3              # the number of nn.Linear modules in the model\n",
    "width = 200\n",
    "activation = 'ReLU'     # 'ReLU' or 'Tanh' or 'Sigmoid' or 'GELU'\n",
    "\n",
    "log_freq = math.ceil(optimization_steps / 150)\n",
    "\n",
    "\n",
    "device = torch.device('cuda:0' if torch.cuda.is_available() else 'cpu')\n",
    "dtype = torch.float64\n",
    "seed = 0"
   ]
  },
  {
   "cell_type": "code",
   "execution_count": 25,
   "metadata": {},
   "outputs": [],
   "source": [
    "activation_fn = activation_dict[activation]\n",
    "\n",
    "def create_mlp(depth, width, activation, alpha=1.0):\n",
    "    \"\"\"Creates an MLP model with specified depth, width, activation, and output scaling.\"\"\"\n",
    "    layers = [nn.Flatten()]\n",
    "    for i in range(depth):\n",
    "        if i == 0:\n",
    "            layers.append(nn.Linear(28 * 28, width))\n",
    "            layers.append(activation_fn())\n",
    "        elif i == depth - 1:\n",
    "            layers.append(nn.Linear(width, 10))\n",
    "        else:\n",
    "            layers.append(nn.Linear(width, width))\n",
    "            layers.append(activation_fn())\n",
    "\n",
    "    class OutputScaledMLP(nn.Module):\n",
    "        def __init__(self, mlp, alpha):\n",
    "            super().__init__()\n",
    "            self.mlp = mlp\n",
    "            self.alpha = alpha\n",
    "\n",
    "        def forward(self, x):\n",
    "            return self.alpha * self.mlp(x)\n",
    "\n",
    "    return OutputScaledMLP(nn.Sequential(*layers), alpha).to(device)"
   ]
  },
  {
   "cell_type": "code",
   "execution_count": 26,
   "metadata": {},
   "outputs": [],
   "source": [
    "def cycle(iterable):\n",
    "    while True:\n",
    "        for x in iterable:\n",
    "            yield x\n",
    "\n",
    "def compute_accuracy(network, dataset, device, N=2000, batch_size=50):\n",
    "    \"\"\"Computes accuracy of `network` on `dataset`.\n",
    "    \"\"\"\n",
    "    with torch.no_grad():\n",
    "        N = min(len(dataset), N)\n",
    "        batch_size = min(batch_size, N)\n",
    "        dataset_loader = torch.utils.data.DataLoader(dataset, batch_size=batch_size, shuffle=True)\n",
    "        correct = 0\n",
    "        total = 0\n",
    "        for x, labels in islice(dataset_loader, N // batch_size):\n",
    "            logits = network(x.to(device))\n",
    "            predicted_labels = torch.argmax(logits, dim=1)\n",
    "            correct += torch.sum(predicted_labels == labels.to(device))\n",
    "            total += x.size(0)\n",
    "        return (correct / total).item()\n",
    "\n",
    "def compute_loss(network, dataset, loss_function, device, N=2000, batch_size=50):\n",
    "    \"\"\"Computes mean loss of `network` on `dataset`.\n",
    "    \"\"\"\n",
    "    with torch.no_grad():\n",
    "        N = min(len(dataset), N)\n",
    "        batch_size = min(batch_size, N)\n",
    "        dataset_loader = torch.utils.data.DataLoader(dataset, batch_size=batch_size, shuffle=True)\n",
    "        loss_fn = loss_function_dict[loss_function](reduction='sum')\n",
    "        one_hots = torch.eye(10, 10).to(device)\n",
    "        total = 0\n",
    "        points = 0\n",
    "        for x, labels in islice(dataset_loader, N // batch_size):\n",
    "            y = network(x.to(device))\n",
    "            if loss_function == 'CrossEntropy':\n",
    "                total += loss_fn(y, labels.to(device)).item()\n",
    "            elif loss_function == 'MSE':\n",
    "                total += loss_fn(y, one_hots[labels]).item()\n",
    "            points += len(labels)\n",
    "        return total / points"
   ]
  },
  {
   "cell_type": "code",
   "execution_count": 27,
   "metadata": {},
   "outputs": [],
   "source": [
    "# load dataset\n",
    "train = torchvision.datasets.MNIST(root=download_directory, train=True,\n",
    "    transform=torchvision.transforms.ToTensor(), download=False)\n",
    "test = torchvision.datasets.MNIST(root=download_directory, train=False,\n",
    "    transform=torchvision.transforms.ToTensor(), download=False)\n",
    "train = torch.utils.data.Subset(train, range(train_points))\n",
    "train_loader = torch.utils.data.DataLoader(train, batch_size=batch_size, shuffle=True)\n",
    "\n",
    "assert activation in activation_dict, f\"Unsupported activation function: {activation}\"\n",
    "activation_fn = activation_dict[activation]"
   ]
  },
  {
   "cell_type": "code",
   "execution_count": 68,
   "metadata": {},
   "outputs": [],
   "source": [
    "subset_indices = np.random.choice(len(test), 1000, replace=False) \n",
    "test_subset = torch.utils.data.Subset(test, subset_indices)\n",
    "test_loader = torch.utils.data.DataLoader(test_subset, batch_size=100, shuffle=False)"
   ]
  },
  {
   "cell_type": "code",
   "execution_count": 28,
   "metadata": {},
   "outputs": [
    {
     "name": "stdout",
     "output_type": "stream",
     "text": [
      "alpha: 0.5\n"
     ]
    },
    {
     "data": {
      "application/vnd.jupyter.widget-view+json": {
       "model_id": "74190dbcfaa245598c7ce2b35fabeefd",
       "version_major": 2,
       "version_minor": 0
      },
      "text/plain": [
       "  0%|          | 0/100001 [00:00<?, ?it/s]"
      ]
     },
     "metadata": {},
     "output_type": "display_data"
    },
    {
     "name": "stdout",
     "output_type": "stream",
     "text": [
      "steps: 1; save model\n",
      "steps: 10; save model\n",
      "steps: 100; save model\n",
      "steps: 1000; save model\n",
      "steps: 10000; save model\n",
      "steps: 20000; save model\n",
      "steps: 30000; save model\n",
      "steps: 40000; save model\n",
      "steps: 60000; save model\n",
      "steps: 70000; save model\n",
      "steps: 80000; save model\n",
      "steps: 90000; save model\n",
      "steps: 100000; save model\n"
     ]
    }
   ],
   "source": [
    "# alphas = [0.001, 0.01, 0.05, 0.5]\n",
    "# alphas = [0.001, 0.5]\n",
    "alphas = [0.5]\n",
    "\n",
    "results = {}\n",
    "for alpha in alphas:\n",
    "\n",
    "    print(f\"alpha: {alpha}\")\n",
    "    # Create model\n",
    "    mlp = create_mlp(depth, width, activation_fn, alpha)\n",
    "\n",
    "    with torch.no_grad():\n",
    "        for p in mlp.parameters():\n",
    "            p.data = initialization_scale * p.data\n",
    "\n",
    "    # create optimizer\n",
    "    assert optimizer in optimizer_dict, f\"Unsupported optimizer choice: {optimizer}\"\n",
    "    optimizer = optimizer_dict[optimizer](mlp.parameters(), lr=lr, weight_decay=weight_decay)\n",
    "\n",
    "    # define loss function\n",
    "    assert loss_function in loss_function_dict\n",
    "    loss_fn = loss_function_dict[loss_function]()\n",
    "\n",
    "\n",
    "    results[alpha] = {'train_loss': [], 'test_loss': [],\n",
    "                        'train_accuracies': [], 'test_accuracies':[],\n",
    "                        'log_steps':[],\n",
    "                        'norms':[], 'last_layer_norms':[]}\n",
    "\n",
    "\n",
    "    steps = 0\n",
    "    one_hots = torch.eye(10, 10).to(device)\n",
    "\n",
    "    with tqdm(total=optimization_steps) as pbar:\n",
    "        for x, labels in islice(cycle(train_loader), optimization_steps):\n",
    "            if (steps < 30) or (steps < 150 and steps % 10 == 0) or steps % log_freq == 0:\n",
    "                results[alpha]['train_loss'].append(compute_loss(mlp, train, loss_function, device, N=len(train)))\n",
    "                results[alpha]['train_accuracies'].append(compute_accuracy(mlp, train, device, N=len(train)))\n",
    "                results[alpha]['test_loss'].append(compute_loss(mlp, test, loss_function, device, N=len(test)))\n",
    "                results[alpha]['test_accuracies'].append(compute_accuracy(mlp, test, device, N=len(test)))\n",
    "                results[alpha]['log_steps'].append(steps)\n",
    "                with torch.no_grad():\n",
    "                    total = sum(torch.pow(p, 2).sum() for p in mlp.parameters())\n",
    "                    results[alpha]['norms'].append(float(np.sqrt(total.item())))\n",
    "                    last_layer = sum(torch.pow(p, 2).sum() for p in mlp.mlp[-1].parameters())\n",
    "                    results[alpha]['last_layer_norms'].append(float(np.sqrt(last_layer.item())))\n",
    "                pbar.set_description(\"L: {0:1.1e}|{1:1.1e}. A: {2:2.1f}%|{3:2.1f}%\".format(\n",
    "                    results[alpha]['train_loss'][-1],\n",
    "                    results[alpha]['test_loss'][-1],\n",
    "                    results[alpha]['train_accuracies'][-1] * 100,\n",
    "                    results[alpha]['test_accuracies'][-1] * 100))\n",
    "                \n",
    "            if steps in [1, 10, 100, 1000, 10000, 20000, 30000, 40000, 60000, 70000, 80000, 90000, 100000]:\n",
    "                print(f\"steps: {steps}; save model\")\n",
    "                save_path = os.path.join('/data/cici/Geometry/new/MNIST/checkpoints', f'alpha_{alpha}_{steps}.pth')\n",
    "                torch.save(mlp.state_dict(), save_path)\n",
    "\n",
    "            optimizer.zero_grad()\n",
    "            y = mlp(x.to(device))\n",
    "            if loss_function == 'CrossEntropy':\n",
    "                loss = loss_fn(y, labels.to(device))\n",
    "            elif loss_function == 'MSE':\n",
    "                loss = loss_fn(y, one_hots[labels])\n",
    "            loss.backward()\n",
    "            optimizer.step()\n",
    "            steps += 1\n",
    "            pbar.update(1)\n"
   ]
  },
  {
   "cell_type": "code",
   "execution_count": 33,
   "metadata": {},
   "outputs": [
    {
     "data": {
      "image/png": "[encoded data removed]",
      "text/plain": [
       "<Figure size 800x600 with 1 Axes>"
      ]
     },
     "metadata": {},
     "output_type": "display_data"
    }
   ],
   "source": [
    "fig, ax = plt.subplots(figsize = (8, 6))\n",
    "plt.plot(results[alphas[0]]['log_steps'], results[alphas[0]]['train_accuracies'], color='red', label=f'train, alpha = {alphas[0]}')\n",
    "plt.plot(results[alphas[0]]['log_steps'], results[alphas[0]]['test_accuracies'], color='red', ls = '--', label=f'test, alpha = {alphas[0]}')\n",
    "plt.xscale('log')\n",
    "plt.xlim(10, None)\n",
    "plt.xlabel(\"Optimization Steps\")\n",
    "plt.ylabel(\"Accuracy\")\n",
    "plt.legend(loc= \"upper left\")\n",
    "plt.show()"
   ]
  },
  {
   "cell_type": "code",
   "execution_count": 34,
   "metadata": {},
   "outputs": [
    {
     "data": {
      "image/png": "[encoded data removed]",
      "text/plain": [
       "<Figure size 800x600 with 1 Axes>"
      ]
     },
     "metadata": {},
     "output_type": "display_data"
    }
   ],
   "source": [
    "fig, ax = plt.subplots(figsize = (8, 6))\n",
    "plt.plot(results[alphas[0]]['log_steps'], results[alphas[0]]['train_loss'], color='red', label=f'train, alpha = {alphas[0]}')\n",
    "plt.plot(results[alphas[0]]['log_steps'], results[alphas[0]]['test_loss'], color='red', ls = '--', label=f'test, alpha = {alphas[0]}')\n",
    "plt.xscale('log')\n",
    "plt.xlim(10, None)\n",
    "plt.ylim(0, 150)\n",
    "plt.xlabel(\"Optimization Steps\")\n",
    "plt.ylabel(\"Loss\")\n",
    "plt.legend(loc= \"upper right\")\n",
    "plt.show()"
   ]
  },
  {
   "cell_type": "code",
   "execution_count": 60,
   "metadata": {},
   "outputs": [],
   "source": [
    "MLPmodels = []\n",
    "mlp0 = create_mlp(depth, width, activation_fn, .5)\n",
    "with torch.no_grad():\n",
    "    for p in mlp0.parameters():\n",
    "        p.data = initialization_scale * p.data\n",
    "\n",
    "MLPmodels.append(mlp0)\n",
    "for steps in [1, 10, 100, 1000, 10000, 20000, 30000, 40000, 60000, 70000, 80000, 90000, 100000]:\n",
    "    checkpoint = torch.load(os.path.join('/data/cici/Geometry/new/MNIST/checkpoints', f'alpha_{alpha}_{steps}.pth'))\n",
    "    mlp = create_mlp(depth, width, activation_fn, .5)\n",
    "    mlp.load_state_dict(checkpoint)\n",
    "    MLPmodels.append(mlp)"
   ]
  },
  {
   "cell_type": "code",
   "execution_count": 65,
   "metadata": {},
   "outputs": [],
   "source": [
    "def compute_ntk_at_epoch(model, dataloader):\n",
    "    # Set requires_grad to True for all model parameters\n",
    "    for param in model.parameters():\n",
    "        param.requires_grad = True\n",
    "    \n",
    "    ntk_sum = None\n",
    "    num_batches = 0\n",
    "    \n",
    "    for inputs, _ in dataloader:\n",
    "        inputs = inputs.to(device)\n",
    "        \n",
    "        # Compute the Jacobian matrix\n",
    "        model.zero_grad()\n",
    "        outputs = model(inputs)\n",
    "        jacobian = []\n",
    "        \n",
    "        for output in outputs:\n",
    "            grad_output = torch.zeros_like(output)\n",
    "            grad_output[:] = 1.0\n",
    "            gradients = torch.autograd.grad(output, model.parameters(), grad_outputs=grad_output, create_graph=True)\n",
    "            jacobian.append(torch.cat([g.view(-1) for g in gradients]))\n",
    "        \n",
    "        jacobian = torch.stack(jacobian)\n",
    "        \n",
    "        # Compute the NTK for the current batch\n",
    "        ntk_batch = torch.matmul(jacobian, jacobian.t())\n",
    "        \n",
    "        # Accumulate the NTK sum\n",
    "        if ntk_sum is None:\n",
    "            ntk_sum = ntk_batch.cpu().detach()\n",
    "        else:\n",
    "            ntk_sum += ntk_batch.cpu().detach()\n",
    "        \n",
    "        num_batches += 1\n",
    "    \n",
    "    # Compute the average NTK over all batches\n",
    "    ntk_avg = ntk_sum / num_batches\n",
    "    \n",
    "    return ntk_avg.numpy()\n",
    "\n",
    "def kernel_distance(Kt1, Kt2):\n",
    "    \"\"\"\n",
    "    Compute the kernel distance between two Neural Tangent Kernels.\n",
    "    \n",
    "    Args:\n",
    "        Kt1: NTK matrix at time t1\n",
    "        Kt2: NTK matrix at time t2\n",
    "    \n",
    "    Returns:\n",
    "        The kernel distance between Kt1 and Kt2\n",
    "    \"\"\"\n",
    "    # Compute the Frobenius inner product\n",
    "    frobenius_inner_product = np.sum(Kt1 * Kt2)\n",
    "    \n",
    "    # Compute the Frobenius norms\n",
    "    frobenius_norm_Kt1 = np.sqrt(np.sum(Kt1**2))\n",
    "    frobenius_norm_Kt2 = np.sqrt(np.sum(Kt2**2))\n",
    "    \n",
    "    # Compute the kernel distance\n",
    "    kernel_dist = 1 - frobenius_inner_product / (frobenius_norm_Kt1 * frobenius_norm_Kt2)\n",
    "    \n",
    "    return kernel_dist\n",
    "\n",
    "\n",
    "def compute_pairwise_distances(models, dataloader):\n",
    "    n = len(models)\n",
    "    distance_matrix = np.zeros((n, n))\n",
    "    \n",
    "    for i in range(n):\n",
    "        for j in range(i, n):\n",
    "            ntk_i = compute_ntk_at_epoch(models[i], dataloader)\n",
    "            ntk_j = compute_ntk_at_epoch(models[j], dataloader)\n",
    "            distance = kernel_distance(ntk_i, ntk_j)\n",
    "            distance_matrix[i, j] = distance\n",
    "            distance_matrix[j, i] = distance\n",
    "    \n",
    "    return distance_matrix\n",
    "\n",
    "def plot_heatmap(distance_matrix, param_list, save_path):\n",
    "    plt.figure(figsize=(10, 8))\n",
    "    sns.heatmap(distance_matrix, annot=False, cmap='viridis')\n",
    "    plt.title(f'Kernel Distance Heatmap for {param_list}')\n",
    "    plt.xlabel('Model Checkpoint')\n",
    "    plt.ylabel('Model Checkpoint')\n",
    "    plt.savefig(save_path)\n",
    "    plt.close()"
   ]
  },
  {
   "cell_type": "code",
   "execution_count": 69,
   "metadata": {},
   "outputs": [],
   "source": [
    "distance_matrix = compute_pairwise_distances(MLPmodels, test_loader)"
   ]
  },
  {
   "cell_type": "code",
   "execution_count": 70,
   "metadata": {},
   "outputs": [],
   "source": [
    "plot_heatmap(distance_matrix, 'MNIST grok','./K-dist.pdf')"
   ]
  },
  {
   "cell_type": "code",
   "execution_count": 2,
   "metadata": {},
   "outputs": [
    {
     "ename": "ModuleNotFoundError",
     "evalue": "No module named 'neuronet'",
     "output_type": "error",
     "traceback": [
      "\u001b[0;31m---------------------------------------------------------------------------\u001b[0m",
      "\u001b[0;31mModuleNotFoundError\u001b[0m                       Traceback (most recent call last)",
      "Cell \u001b[0;32mIn[2], line 1\u001b[0m\n\u001b[0;32m----> 1\u001b[0m \u001b[38;5;28;01mfrom\u001b[39;00m \u001b[38;5;21;01mneuronet\u001b[39;00m\u001b[38;5;21;01m.\u001b[39;00m\u001b[38;5;21;01mutils\u001b[39;00m \u001b[38;5;28;01mimport\u001b[39;00m models\n",
      "\u001b[0;31mModuleNotFoundError\u001b[0m: No module named 'neuronet'"
     ]
    }
   ],
   "source": [
    "from neuronet.utils import models"
   ]
  },
  {
   "cell_type": "code",
   "execution_count": null,
   "metadata": {},
   "outputs": [],
   "source": []
  }
 ],
 "metadata": {
  "kernelspec": {
   "display_name": "pytorch_test",
   "language": "python",
   "name": "python3"
  },
  "language_info": {
   "codemirror_mode": {
    "name": "ipython",
    "version": 3
   },
   "file_extension": ".py",
   "mimetype": "text/x-python",
   "name": "python",
   "nbconvert_exporter": "python",
   "pygments_lexer": "ipython3",
   "version": "3.11.4"
  }
 },
 "nbformat": 4,
 "nbformat_minor": 2
}
